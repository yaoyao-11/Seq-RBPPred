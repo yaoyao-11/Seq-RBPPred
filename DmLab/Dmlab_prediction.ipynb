{
 "cells": [
  {
   "cell_type": "code",
   "execution_count": 1,
   "metadata": {},
   "outputs": [],
   "source": [
    "import pandas as pd\n",
    "import numpy as np\n",
    "import math"
   ]
  },
  {
   "cell_type": "code",
   "execution_count": 2,
   "metadata": {},
   "outputs": [],
   "source": [
    "test_file=\"./test/independent_test.csv\"\n",
    "rules_file=\"./Dmlab/MCFS_4801_6243/test.txt\""
   ]
  },
  {
   "cell_type": "code",
   "execution_count": 3,
   "metadata": {},
   "outputs": [],
   "source": [
    "TP=0.8723\n",
    "TN=0.8773\n",
    "FP=0.1226\n",
    "FN=0.1276\n",
    "\n",
    "ACC=(TP+TN)/(TP+TN+FN+FP)\n",
    "MCC=(TP*TN-FP*FN)/math.sqrt((TP+FN)*(TP+FP)*(TN+FP)*(TN+FN))\n",
    "SN=TP/(TP+FN)\n",
    "SP=TN/(TN+FP)"
   ]
  },
  {
   "cell_type": "code",
   "execution_count": 4,
   "metadata": {},
   "outputs": [
    {
     "data": {
      "text/plain": [
       "(0.8748874887488749,\n",
       " 0.7497843517354895,\n",
       " 0.8723872387238724,\n",
       " 0.8773877387738773)"
      ]
     },
     "execution_count": 4,
     "metadata": {},
     "output_type": "execute_result"
    }
   ],
   "source": [
    "ACC,MCC,SN,SP"
   ]
  },
  {
   "cell_type": "code",
   "execution_count": 5,
   "metadata": {},
   "outputs": [],
   "source": [
    "data=pd.read_csv(test_file)\n",
    "p=1626\n",
    "n=1956-1627\n",
    "cls=[\"Positive\"]*p+[\"Negative\"]*n\n",
    "data=data.set_index(\"Unnamed: 0\")\n",
    "newdata=data\n",
    "newdata[\"pre\"]=cls\n",
    "file=rules_file"
   ]
  },
  {
   "cell_type": "code",
   "execution_count": 8,
   "metadata": {},
   "outputs": [],
   "source": [
    "for name in newdata.index:\n",
    "    a=0\n",
    "    with open(file,\"r\") as f:\n",
    "        for i in f:\n",
    "            i=i.replace(\"\\n\",\"\")\n",
    "            a=a+1\n",
    "            data_name=\"pre_{}\".format(a)\n",
    "            feature_value=[]\n",
    "            judge=[]\n",
    "            judge_value=[]\n",
    "            for features in i.split(\"=>\")[0].split(\"and\"):\n",
    "                feature=features.lstrip().replace(\"(\",\"\").replace(\")\",\"\").split(\" \")[0]\n",
    "                symbol=features.lstrip().replace(\"(\",\"\").replace(\")\",\"\").split(\" \")[1]\n",
    "                need_value=features.lstrip().replace(\"(\",\"\").replace(\")\",\"\").split(\" \")[2]\n",
    "                need_value=float(need_value)\n",
    "                feature_value.append(newdata.loc[name,feature])\n",
    "                judge.append(symbol)\n",
    "                judge_value.append(need_value)\n",
    "            num=len(feature_value)\n",
    "            bool_list = []\n",
    "            and_num=0\n",
    "            while and_num < num:\n",
    "                bool_v = eval(f'({feature_value[and_num]} {judge[and_num]} {judge_value[and_num]} )')\n",
    "                bool_list.append(bool_v)\n",
    "                and_num += 1\n",
    "            if np.array(bool_list).all():\n",
    "                newdata.loc[name,data_name]='Positive'\n",
    "            else:\n",
    "                newdata.loc[name,data_name]='Negative'\n",
    "for i in newdata.index:\n",
    "    pre_last=[]\n",
    "    for num in range(1,a+1):\n",
    "        if newdata.loc[i,\"pre_{}\".format(num)]==\"Positive\":#如果符合其中的一条规则,就记录为True\n",
    "            pre_last.append(\"True\")\n",
    "    if len(pre_last)>0:#只要有一条符合规则就是规则里面的预测结果\n",
    "        newdata.loc[i,\"last\"]=\"Positive\"\n",
    "    else:\n",
    "        newdata.loc[i,\"last\"]=\"Negative\"\n",
    "for i in newdata.index:\n",
    "    if newdata.loc[i,\"pre\"]==newdata.loc[i,\"last\"]:#如果预测结果和序列本身的属性一样就记录为T\n",
    "        newdata.loc[i,\"prediction\"]=\"T\"\n",
    "    else:\n",
    "        newdata.loc[i,\"prediction\"]=\"F\"\n",
    "\n",
    "ACC_MCC=[\"NULL\"]*(n+p)\n",
    "newdata[\"ACC_MCC\"]=ACC_MCC\n",
    "\n",
    "for i in range(p):\n",
    "    if newdata.iloc[i,-2]==\"T\":\n",
    "        newdata.iloc[i,-1]=\"TP\"\n",
    "    else:\n",
    "        newdata.iloc[i,-1]=\"FN\"\n",
    "\n",
    "for i in range(p,p+n):\n",
    "    if newdata.iloc[i,-2]==\"T\":\n",
    "        newdata.iloc[i,-1]=\"TN\"\n",
    "    else:\n",
    "        newdata.iloc[i,-1]=\"FP\"\n",
    "\n",
    "prediction= newdata[\"prediction\"].values.tolist()\n",
    "T_F=dict(zip(*np.unique(prediction, return_counts=True)))\n",
    "count=T_F[\"T\"]/len(prediction)\n",
    "ACC_MCC_list= newdata[\"ACC_MCC\"].values.tolist()\n",
    "ACC_MCC=dict(zip(*np.unique(ACC_MCC_list, return_counts=True)))\n",
    "TP=ACC_MCC[\"TP\"]\n",
    "TN=ACC_MCC[\"TN\"]\n",
    "FP=ACC_MCC[\"FP\"]\n",
    "FN=ACC_MCC[\"FN\"]\n",
    "\n",
    "ACC=(TP+TN)/(TP+TN+FN+FP)\n",
    "MCC=(TP*TN-FP*FN)/math.sqrt((TP+FN)*(TP+FP)*(TN+FP)*(TN+FN))\n",
    "SN=TP/(TP+FN)\n",
    "SP=TN/(TN+FP)"
   ]
  },
  {
   "cell_type": "code",
   "execution_count": 9,
   "metadata": {},
   "outputs": [
    {
     "data": {
      "text/plain": [
       "(0.8813299232736573,\n",
       " 0.6280695689308431,\n",
       " 0.8991389913899139,\n",
       " 0.7933130699088146)"
      ]
     },
     "execution_count": 9,
     "metadata": {},
     "output_type": "execute_result"
    }
   ],
   "source": [
    "ACC,MCC,SN,SP"
   ]
  },
  {
   "cell_type": "code",
   "execution_count": null,
   "metadata": {},
   "outputs": [],
   "source": []
  }
 ],
 "metadata": {
  "kernelspec": {
   "display_name": "py3.8.5",
   "language": "python",
   "name": "python3"
  },
  "language_info": {
   "codemirror_mode": {
    "name": "ipython",
    "version": 3
   },
   "file_extension": ".py",
   "mimetype": "text/x-python",
   "name": "python",
   "nbconvert_exporter": "python",
   "pygments_lexer": "ipython3",
   "version": "3.8.5"
  },
  "orig_nbformat": 4,
  "vscode": {
   "interpreter": {
    "hash": "49325abef9b3daa326e85974c24633a8dce069ac5b1211d0ea8a0f81713958d6"
   }
  }
 },
 "nbformat": 4,
 "nbformat_minor": 2
}
