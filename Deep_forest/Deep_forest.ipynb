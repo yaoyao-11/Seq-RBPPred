{
 "cells": [
  {
   "cell_type": "code",
   "execution_count": 1,
   "metadata": {},
   "outputs": [],
   "source": [
    "import math\n",
    "import numpy as np\n",
    "import pandas as pd\n",
    "import joblib\n",
    "from deepforest import CascadeForestClassifier\n",
    "from sklearn.metrics import accuracy_score\n",
    "from sklearn.model_selection import train_test_split\n",
    "from sklearn.metrics import accuracy_score\n",
    "import matplotlib.pyplot as plt\n",
    "from sklearn.metrics import r2_score\n",
    "from sklearn.metrics import mean_squared_error"
   ]
  },
  {
   "cell_type": "code",
   "execution_count": 2,
   "metadata": {},
   "outputs": [],
   "source": [
    "data=pd.read_csv('./data/training_set_2.csv',index_col=0)\n",
    "# P=[1]*2412\n",
    "# N=[0]*6961\n",
    "# all=P+N\n",
    "# data[\"label\"]=all\n",
    "data=data.sample(frac=1,random_state=1)\n",
    "train,test=train_test_split(data,test_size=0.2,random_state=1)\n",
    "train_x=train.drop([\"label\"],axis=\"columns\")\n",
    "train_y=train[\"label\"]\n",
    "test_x=test.drop([\"label\"],axis=\"columns\")\n",
    "test_y=test[\"label\"]"
   ]
  },
  {
   "cell_type": "code",
   "execution_count": 3,
   "metadata": {},
   "outputs": [
    {
     "name": "stdout",
     "output_type": "stream",
     "text": [
      "[2023-02-12 15:00:33.354] Start to fit the model:\n",
      "[2023-02-12 15:00:33.402] Fitting cascade layer = 0 \n",
      "[2023-02-12 15:04:32.719] layer = 0  | Val Acc = 89.111 % | Elapsed = 239.317 s\n",
      "[2023-02-12 15:04:33.205] Fitting cascade layer = 1 \n",
      "[2023-02-12 15:05:49.760] layer = 1  | Val Acc = 89.926 % | Elapsed = 76.555 s\n",
      "[2023-02-12 15:05:49.770] Fitting cascade layer = 2 \n",
      "[2023-02-12 15:07:06.357] layer = 2  | Val Acc = 90.028 % | Elapsed = 76.586 s\n",
      "[2023-02-12 15:07:06.367] Fitting cascade layer = 3 \n",
      "[2023-02-12 15:08:24.230] layer = 3  | Val Acc = 90.311 % | Elapsed = 77.863 s\n",
      "[2023-02-12 15:08:24.240] Fitting cascade layer = 4 \n",
      "[2023-02-12 15:09:45.091] layer = 4  | Val Acc = 90.458 % | Elapsed = 80.851 s\n",
      "[2023-02-12 15:09:45.100] Fitting cascade layer = 5 \n",
      "[2023-02-12 15:11:09.365] layer = 5  | Val Acc = 90.458 % | Elapsed = 84.265 s\n",
      "[2023-02-12 15:11:09.365] Early stopping counter: 1 out of 2\n",
      "[2023-02-12 15:11:09.376] Fitting cascade layer = 6 \n",
      "[2023-02-12 15:12:34.705] layer = 6  | Val Acc = 90.662 % | Elapsed = 85.329 s\n",
      "[2023-02-12 15:12:34.715] Fitting cascade layer = 7 \n",
      "[2023-02-12 15:13:58.611] layer = 7  | Val Acc = 90.458 % | Elapsed = 83.896 s\n",
      "[2023-02-12 15:13:58.612] Early stopping counter: 1 out of 2\n",
      "[2023-02-12 15:13:58.621] Fitting cascade layer = 8 \n",
      "[2023-02-12 15:15:16.987] layer = 8  | Val Acc = 90.323 % | Elapsed = 78.366 s\n",
      "[2023-02-12 15:15:16.988] Early stopping counter: 2 out of 2\n",
      "[2023-02-12 15:15:16.988] Handling early stopping\n",
      "[2023-02-12 15:15:16.989] The optimal number of layers: 7\n",
      "[2023-02-12 15:15:16.999] Start to evalute the model:\n",
      "[2023-02-12 15:15:47.392] Evaluating cascade layer = 0 \n",
      "[2023-02-12 15:15:47.796] Evaluating cascade layer = 1 \n",
      "[2023-02-12 15:15:48.191] Evaluating cascade layer = 2 \n",
      "[2023-02-12 15:15:48.577] Evaluating cascade layer = 3 \n",
      "[2023-02-12 15:15:48.956] Evaluating cascade layer = 4 \n",
      "[2023-02-12 15:15:49.356] Evaluating cascade layer = 5 \n",
      "[2023-02-12 15:15:49.752] Evaluating cascade layer = 6 \n"
     ]
    },
    {
     "data": {
      "text/plain": [
       "0.9167043911272069"
      ]
     },
     "execution_count": 3,
     "metadata": {},
     "output_type": "execute_result"
    }
   ],
   "source": [
    "def featureSet(data):\n",
    "    data_num=len(data)\n",
    "    Xlist=[]\n",
    "    for row in range(0,data_num):\n",
    "        tmp_list=[]\n",
    "        for ii in range(len(data.columns)):\n",
    "            tmp_list.append(data.iloc[row][data.columns[ii]])\n",
    "        Xlist.append(tmp_list)\n",
    "    return Xlist\n",
    "train_x=featureSet(train_x)\n",
    "y_train=train.label.values\n",
    "train_x=np.array(train_x)\n",
    "model = CascadeForestClassifier(random_state=1)\n",
    "model.fit(train_x, y_train)\n",
    "y_test_pred = model.predict(test_x)\n",
    "y_test_pred=list(y_test_pred)\n",
    "from sklearn.metrics import accuracy_score\n",
    "accuracy_score(test_y,y_test_pred)   \n"
   ]
  },
  {
   "cell_type": "code",
   "execution_count": 4,
   "metadata": {},
   "outputs": [
    {
     "name": "stdout",
     "output_type": "stream",
     "text": [
      "0.9167043911272069 0.8309635349895355 0.8852459016393442 0.9416058394160584\n"
     ]
    }
   ],
   "source": [
    "accuracy_score(test_y,y_test_pred) \n",
    "newdata={\"name\":list(test_x.index),\n",
    "         \"true\":list(test_y),\n",
    "         \"pre\":list(y_test_pred)}\n",
    "newdata=pd.DataFrame(newdata)\n",
    "for i in newdata.index:\n",
    "    if newdata.loc[i,\"pre\"]==newdata.loc[i,\"true\"]:#如果预测结果和序列本身的属性一样就记录为T\n",
    "        newdata.loc[i,\"prediction\"]=\"T\"\n",
    "    else:\n",
    "        newdata.loc[i,\"prediction\"]=\"F\"\n",
    "for i in newdata.index:\n",
    "    if newdata.loc[i,\"pre\"]==newdata.loc[i,\"true\"]:#如果预测结果和序列本身的属性一样就记录为T\n",
    "        newdata.loc[i,\"prediction\"]=\"T\"\n",
    "    else:\n",
    "        newdata.loc[i,\"prediction\"]=\"F\"\n",
    "for i in newdata.index:\n",
    "    if newdata.loc[i,\"true\"]==1:\n",
    "        newdata.loc[i,\"RBP\"]=\"P\"\n",
    "    else:\n",
    "        newdata.loc[i,\"RBP\"]=\"N\"\n",
    "newdata[\"ACC_MCC\"]=\"NULL\"\n",
    "for i in newdata.index :\n",
    "    if newdata.iloc[i,-2]==\"P\":\n",
    "        if newdata.iloc[i,-3]==\"T\":\n",
    "            newdata.iloc[i,-1]=\"TP\"\n",
    "        else:\n",
    "            newdata.iloc[i,-1]=\"FN\"\n",
    "    if newdata.iloc[i,-2]==\"N\":\n",
    "        if newdata.iloc[i,-3]==\"T\":\n",
    "            newdata.iloc[i,-1]=\"TN\"\n",
    "        else:\n",
    "            newdata.iloc[i,-1]=\"FP\"\n",
    "prediction= newdata[\"prediction\"].values.tolist()\n",
    "T_F=dict(zip(*np.unique(prediction, return_counts=True)))\n",
    "count=T_F[\"T\"]/len(prediction)\n",
    "ACC_MCC_list= newdata[\"ACC_MCC\"].values.tolist()\n",
    "ACC_MCC=dict(zip(*np.unique(ACC_MCC_list, return_counts=True)))\n",
    "TP=ACC_MCC[\"TP\"]\n",
    "TN=ACC_MCC[\"TN\"]\n",
    "FP=ACC_MCC[\"FP\"]\n",
    "FN=ACC_MCC[\"FN\"]\n",
    "ACC=(TP+TN)/(TP+TN+FN+FP)\n",
    "MCC=(TP*TN-FP*FN)/math.sqrt((TP+FN)*(TP+FP)*(TN+FP)*(TN+FN))\n",
    "SN=TP/(TP+FN)\n",
    "SP=TN/(TN+FP)\n",
    "print(ACC,MCC,SN,SP)\n"
   ]
  },
  {
   "cell_type": "code",
   "execution_count": 5,
   "metadata": {},
   "outputs": [],
   "source": [
    "import math\n",
    "import numpy as np\n",
    "import pandas as pd\n",
    "import joblib\n",
    "from deepforest import CascadeForestClassifier\n",
    "from sklearn.model_selection import train_test_split\n",
    "import matplotlib.pyplot as plt\n",
    "#scikit-learn==1.0.2\n",
    "from sklearn.metrics import r2_score\n",
    "from sklearn.metrics import mean_squared_error\n",
    "from sklearn.metrics import accuracy_score\n",
    "from sklearn.metrics import roc_curve, auc\n",
    "from matplotlib import rcParams\n",
    "from pathlib import Path"
   ]
  },
  {
   "cell_type": "code",
   "execution_count": 7,
   "metadata": {},
   "outputs": [
    {
     "name": "stdout",
     "output_type": "stream",
     "text": [
      "[2023-02-12 15:33:40.980] Start to evalute the model:\n",
      "[2023-02-12 15:33:41.378] Evaluating cascade layer = 0 \n",
      "[2023-02-12 15:33:41.742] Evaluating cascade layer = 1 \n",
      "[2023-02-12 15:33:42.095] Evaluating cascade layer = 2 \n",
      "[2023-02-12 15:33:42.453] Evaluating cascade layer = 3 \n",
      "[2023-02-12 15:33:42.800] Evaluating cascade layer = 4 \n",
      "[2023-02-12 15:33:43.193] Evaluating cascade layer = 5 \n",
      "[2023-02-12 15:33:43.541] Evaluating cascade layer = 6 \n"
     ]
    },
    {
     "data": {
      "text/plain": [
       "<Figure size 432x288 with 0 Axes>"
      ]
     },
     "metadata": {},
     "output_type": "display_data"
    },
    {
     "data": {
      "image/png": "[encoded data removed]",
      "text/plain": [
       "<Figure size 720x720 with 1 Axes>"
      ]
     },
     "metadata": {
      "needs_background": "light"
     },
     "output_type": "display_data"
    }
   ],
   "source": [
    "def acu_curve(y,prob):\n",
    "    fpr,tpr,threshold = roc_curve(y,prob) ###计算真正率和假正率\n",
    "    roc_auc = auc(fpr,tpr) ###计算auc的值\n",
    " \n",
    "    plt.figure()\n",
    "\n",
    "    config = {\n",
    "        \"font.family\":'serif',\n",
    "        \"font.size\": 20,\n",
    "        \"mathtext.fontset\":'stix',\n",
    "        \"font.serif\": ['Times New Roman'],\n",
    "    }\n",
    "    rcParams.update(config)\n",
    "\n",
    "    lw = 2\n",
    "    plt.figure(figsize=(10,10))\n",
    "    plt.plot(fpr, tpr, color='darkorange',\n",
    "                lw=lw, label='ROC curve (area = %0.3f)' % roc_auc) ###假正率为横坐标，真正率为纵坐标做曲线\n",
    "    plt.plot([0, 1], [0, 1], color='navy', lw=lw, linestyle='--')\n",
    "    plt.xlim([0.0, 1.0])\n",
    "    plt.ylim([0.0, 1.05])\n",
    "    plt.xlabel('False Positive Rate',font=Path('TNR.ttf'),fontsize=25)\n",
    "    plt.ylabel('True Positive Rate',font=Path('TNR.ttf'),fontsize=25)\n",
    "    plt.title('Receiver operating characteristic example',font=Path('TNR.ttf'),fontsize=25)\n",
    "    plt.legend(loc=\"lower right\",fontsize=25)\n",
    "\n",
    "    \n",
    "    plt.show()\n",
    "def featureSet(data):\n",
    "    data_num=len(data)\n",
    "    Xlist=[]\n",
    "    for row in range(0,data_num):\n",
    "        tmp_list=[]\n",
    "        for ii in range(len(data.columns)):\n",
    "            tmp_list.append(data.iloc[row][data.columns[ii]])\n",
    "        Xlist.append(tmp_list)\n",
    "    return Xlist\n",
    "test_file=\"./data/independent_test.csv\"\n",
    "data_test=pd.read_csv(test_file,index_col=0)\n",
    "# data_test[\"label\"]=\"NULL\"\n",
    "# data_test.iloc[:1708,-1]=1\n",
    "# data_test.iloc[1708:,-1]=0\n",
    "test_indepent_x=data_test.drop([\"label\"],axis=\"columns\")\n",
    "test_indepent_y=data_test[\"label\"]\n",
    "test_indepent_y=test_indepent_y.astype(int)\n",
    "# model.fit(train_x, y_train)\n",
    "y_test_pred = model.predict_proba(test_indepent_x)[:, 1]\n",
    "acu_curve(test_indepent_y,y_test_pred)"
   ]
  },
  {
   "cell_type": "code",
   "execution_count": 9,
   "metadata": {},
   "outputs": [
    {
     "name": "stdout",
     "output_type": "stream",
     "text": [
      "[2023-02-12 15:34:56.945] Start to evalute the model:\n",
      "[2023-02-12 15:34:57.343] Evaluating cascade layer = 0 \n",
      "[2023-02-12 15:34:57.718] Evaluating cascade layer = 1 \n",
      "[2023-02-12 15:34:58.068] Evaluating cascade layer = 2 \n",
      "[2023-02-12 15:34:58.413] Evaluating cascade layer = 3 \n",
      "[2023-02-12 15:34:58.783] Evaluating cascade layer = 4 \n",
      "[2023-02-12 15:34:59.209] Evaluating cascade layer = 5 \n",
      "[2023-02-12 15:34:59.570] Evaluating cascade layer = 6 \n"
     ]
    }
   ],
   "source": [
    "def Deep_forest_prediction(test_file):\n",
    "    data_test=pd.read_csv(test_file,index_col=0)\n",
    "    # data_test=data_test.T\n",
    "    # data_test[\"label\"]=\"NULL\"\n",
    "    # data_test.iloc[:1708,-1]=1\n",
    "    # data_test.iloc[1708:,-1]=0\n",
    "    test_indepent_x=data_test.drop([\"label\"],axis=\"columns\")\n",
    "    test_indepent_y=data_test[\"label\"]\n",
    "    test_indepent_y=test_indepent_y.astype(int)\n",
    "    result = model.predict(test_indepent_x)\n",
    "    result=list(result)\n",
    "    for i in range(len(result)):\n",
    "        if result[i]>0.5:\n",
    "            result[i]=1\n",
    "        if result[i]<=0.5:\n",
    "            result[i]=0\n",
    "    test_indepent_y=list(test_indepent_y)\n",
    "    accuracy_score(test_indepent_y,result)  \n",
    "    newdata_test={\"name\":list(test_indepent_x.index),\n",
    "            \"true\":list(test_indepent_y),\n",
    "            \"pre\":list(result)}\n",
    "    newdata_test=pd.DataFrame(newdata_test)\n",
    "    for i in newdata_test.index:\n",
    "        if newdata_test.loc[i,\"pre\"]==newdata_test.loc[i,\"true\"]:#如果预测结果和序列本身的属性一样就记录为T\n",
    "            newdata_test.loc[i,\"prediction\"]=\"T\"\n",
    "        else:\n",
    "            newdata_test.loc[i,\"prediction\"]=\"F\"\n",
    "    for i in newdata_test.index:\n",
    "        if newdata_test.loc[i,\"true\"]==1:\n",
    "            newdata_test.loc[i,\"RBP\"]=\"P\"\n",
    "        else:\n",
    "            newdata_test.loc[i,\"RBP\"]=\"N\"\n",
    "    newdata_test[\"ACC_MCC\"]=\"NULL\"\n",
    "    for i in newdata_test.index :\n",
    "        if newdata_test.iloc[i,-2]==\"P\":\n",
    "            if newdata_test.iloc[i,-3]==\"T\":\n",
    "                newdata_test.iloc[i,-1]=\"TP\"\n",
    "            else:\n",
    "                newdata_test.iloc[i,-1]=\"FN\"\n",
    "        if newdata_test.iloc[i,-2]==\"N\":\n",
    "            if newdata_test.iloc[i,-3]==\"T\":\n",
    "                newdata_test.iloc[i,-1]=\"TN\"\n",
    "            else:\n",
    "                newdata_test.iloc[i,-1]=\"FP\"\n",
    "    prediction= newdata_test[\"prediction\"].values.tolist()\n",
    "    T_F=dict(zip(*np.unique(prediction, return_counts=True)))\n",
    "    count=T_F[\"T\"]/len(prediction)\n",
    "    ACC_MCC_list= newdata_test[\"ACC_MCC\"].values.tolist()\n",
    "    ACC_MCC=dict(zip(*np.unique(ACC_MCC_list, return_counts=True)))\n",
    "    TP=ACC_MCC[\"TP\"]\n",
    "    TN=ACC_MCC[\"TN\"]\n",
    "    FP=ACC_MCC[\"FP\"]\n",
    "    FN=ACC_MCC[\"FN\"]\n",
    "    ACC=(TP+TN)/(TP+TN+FN+FP)\n",
    "    MCC=(TP*TN-FP*FN)/math.sqrt((TP+FN)*(TP+FP)*(TN+FP)*(TN+FN))\n",
    "    SN=TP/(TP+FN)\n",
    "    SP=TN/(TN+FP)\n",
    "    return ACC,MCC,SN,SP\n",
    "test_file=\"./data/independent_test.csv\"\n",
    "ACC,MCC,SN,SP=Deep_forest_prediction(test_file)"
   ]
  },
  {
   "cell_type": "code",
   "execution_count": 10,
   "metadata": {},
   "outputs": [
    {
     "data": {
      "text/plain": [
       "(0.8833759590792839, 0.6644641092110345, 0.8843788437884379, 0.878419452887538)"
      ]
     },
     "execution_count": 10,
     "metadata": {},
     "output_type": "execute_result"
    }
   ],
   "source": [
    "ACC,MCC,SN,SP"
   ]
  }
 ],
 "metadata": {
  "kernelspec": {
   "display_name": "py3.8.5",
   "language": "python",
   "name": "python3"
  },
  "language_info": {
   "codemirror_mode": {
    "name": "ipython",
    "version": 3
   },
   "file_extension": ".py",
   "mimetype": "text/x-python",
   "name": "python",
   "nbconvert_exporter": "python",
   "pygments_lexer": "ipython3",
   "version": "3.8.5"
  },
  "orig_nbformat": 4,
  "vscode": {
   "interpreter": {
    "hash": "49325abef9b3daa326e85974c24633a8dce069ac5b1211d0ea8a0f81713958d6"
   }
  }
 },
 "nbformat": 4,
 "nbformat_minor": 2
}
