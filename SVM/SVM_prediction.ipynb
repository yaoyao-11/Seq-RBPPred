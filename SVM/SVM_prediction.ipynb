{
 "cells": [
  {
   "cell_type": "code",
   "execution_count": 3,
   "metadata": {},
   "outputs": [],
   "source": [
    "import pandas as pd\n",
    "import numpy as np\n",
    "from sklearn.model_selection import train_test_split\n",
    "from sklearn import svm\n",
    "import math\n",
    "\n",
    "\n",
    "import matplotlib.pyplot as plt\n",
    "from sklearn.metrics import r2_score\n",
    "from sklearn.metrics import mean_squared_error\n",
    "import math\n",
    "from sklearn.metrics import accuracy_score\n",
    "from sklearn.metrics import roc_curve, auc\n",
    "from sklearn import svm\n",
    "import matplotlib.pyplot as plt\n",
    "from matplotlib import rcParams\n",
    "\n",
    "from pathlib import Path"
   ]
  },
  {
   "cell_type": "code",
   "execution_count": 2,
   "metadata": {},
   "outputs": [],
   "source": [
    "data=pd.read_csv('./data/training_set_2.csv',index_col=0)\n",
    "# P=[1]*2412\n",
    "# N=[0]*6961\n",
    "# all=P+N\n",
    "# data[\"label\"]=all\n",
    "data=data.sample(frac=1,random_state=1)\n",
    "train,test=train_test_split(data,test_size=0.2,random_state=1)\n",
    "train_x=train.drop([\"label\"],axis=\"columns\")\n",
    "train_y=train[\"label\"]\n",
    "test_x=test.drop([\"label\"],axis=\"columns\")\n",
    "test_y=test[\"label\"]"
   ]
  },
  {
   "cell_type": "code",
   "execution_count": 4,
   "metadata": {},
   "outputs": [
    {
     "data": {
      "text/plain": [
       "0.8854685377999094"
      ]
     },
     "execution_count": 4,
     "metadata": {},
     "output_type": "execute_result"
    }
   ],
   "source": [
    "predictor = svm.SVC(gamma='scale', C=1.0, decision_function_shape='ovr', kernel='rbf')\n",
    "predictor.fit(train_x, train_y)\n",
    "y_test_pred = predictor.predict(test_x)\n",
    "accuracy_score(test_y,y_test_pred)   \n"
   ]
  },
  {
   "cell_type": "code",
   "execution_count": 5,
   "metadata": {},
   "outputs": [],
   "source": [
    "from sklearn.metrics import accuracy_score\n",
    "accuracy_score(test_y,y_test_pred)   \n",
    "newdata={\"name\":list(test_x.index),\n",
    "         \"true\":list(test_y),\n",
    "         \"pre\":list(y_test_pred)}\n",
    "newdata=pd.DataFrame(newdata)\n",
    "for i in newdata.index:\n",
    "    if newdata.loc[i,\"pre\"]==newdata.loc[i,\"true\"]:#如果预测结果和序列本身的属性一样就记录为T\n",
    "        newdata.loc[i,\"prediction\"]=\"T\"\n",
    "    else:\n",
    "        newdata.loc[i,\"prediction\"]=\"F\"\n",
    "\n",
    "\n",
    "for i in newdata.index:\n",
    "    if newdata.loc[i,\"pre\"]==newdata.loc[i,\"true\"]:#如果预测结果和序列本身的属性一样就记录为T\n",
    "        newdata.loc[i,\"prediction\"]=\"T\"\n",
    "    else:\n",
    "        newdata.loc[i,\"prediction\"]=\"F\"\n",
    "for i in newdata.index:\n",
    "    if newdata.loc[i,\"pre\"]==newdata.loc[i,\"true\"]:#如果预测结果和序列本身的属性一样就记录为T\n",
    "        newdata.loc[i,\"prediction\"]=\"T\"\n",
    "    else:\n",
    "        newdata.loc[i,\"prediction\"]=\"F\"\n",
    "for i in newdata.index:\n",
    "    if newdata.loc[i,\"true\"]==1:\n",
    "        newdata.loc[i,\"RBP\"]=\"P\"\n",
    "    else:\n",
    "        newdata.loc[i,\"RBP\"]=\"N\"\n",
    "newdata[\"ACC_MCC\"]=\"NULL\"\n",
    "for i in newdata.index :\n",
    "    if newdata.iloc[i,-2]==\"P\":\n",
    "        if newdata.iloc[i,-3]==\"T\":\n",
    "            newdata.iloc[i,-1]=\"TP\"\n",
    "        else:\n",
    "            newdata.iloc[i,-1]=\"FN\"\n",
    "    if newdata.iloc[i,-2]==\"N\":\n",
    "        if newdata.iloc[i,-3]==\"T\":\n",
    "            newdata.iloc[i,-1]=\"TN\"\n",
    "        else:\n",
    "            newdata.iloc[i,-1]=\"FP\"\n",
    "prediction= newdata[\"prediction\"].values.tolist()"
   ]
  },
  {
   "cell_type": "code",
   "execution_count": 6,
   "metadata": {},
   "outputs": [
    {
     "name": "stdout",
     "output_type": "stream",
     "text": [
      "0.8854685377999094 0.7694190125851651 0.8104508196721312 0.9448499594484996\n"
     ]
    }
   ],
   "source": [
    "T_F=dict(zip(*np.unique(prediction, return_counts=True)))\n",
    "count=T_F[\"T\"]/len(prediction)\n",
    "ACC_MCC_list= newdata[\"ACC_MCC\"].values.tolist()\n",
    "ACC_MCC=dict(zip(*np.unique(ACC_MCC_list, return_counts=True)))\n",
    "TP=ACC_MCC[\"TP\"]\n",
    "TN=ACC_MCC[\"TN\"]\n",
    "FP=ACC_MCC[\"FP\"]\n",
    "FN=ACC_MCC[\"FN\"]\n",
    "ACC=(TP+TN)/(TP+TN+FN+FP)\n",
    "MCC=(TP*TN-FP*FN)/math.sqrt((TP+FN)*(TP+FP)*(TN+FP)*(TN+FN))\n",
    "SN=TP/(TP+FN)\n",
    "SP=TN/(TN+FP)\n",
    "print(ACC,MCC,SN,SP)"
   ]
  },
  {
   "cell_type": "code",
   "execution_count": 7,
   "metadata": {},
   "outputs": [],
   "source": [
    "def SVM_prediction(test_file):\n",
    "    data_test=pd.read_csv(test_file,index_col=0)\n",
    "    test_indepent_x=data_test.drop([\"label\"],axis=\"columns\")\n",
    "    test_indepent_y=data_test[\"label\"]\n",
    "    test_indepent_y=test_indepent_y.astype(int)\n",
    "    result = predictor.predict(test_indepent_x)\n",
    "    accuracy_score(test_indepent_y,result)  \n",
    "    newdata_test={\"name\":list(test_indepent_x.index),\n",
    "            \"true\":list(test_indepent_y),\n",
    "            \"pre\":list(result)}\n",
    "    newdata_test=pd.DataFrame(newdata_test)\n",
    "    for i in newdata_test.index:\n",
    "        if newdata_test.loc[i,\"pre\"]==newdata_test.loc[i,\"true\"]:#如果预测结果和序列本身的属性一样就记录为T\n",
    "            newdata_test.loc[i,\"prediction\"]=\"T\"\n",
    "        else:\n",
    "            newdata_test.loc[i,\"prediction\"]=\"F\"\n",
    "    for i in newdata_test.index:\n",
    "        if newdata_test.loc[i,\"true\"]==1:\n",
    "            newdata_test.loc[i,\"RBP\"]=\"P\"\n",
    "        else:\n",
    "            newdata_test.loc[i,\"RBP\"]=\"N\"\n",
    "    newdata_test[\"ACC_MCC\"]=\"NULL\"\n",
    "    for i in newdata_test.index :\n",
    "        if newdata_test.iloc[i,-2]==\"P\":\n",
    "            if newdata_test.iloc[i,-3]==\"T\":\n",
    "                newdata_test.iloc[i,-1]=\"TP\"\n",
    "            else:\n",
    "                newdata_test.iloc[i,-1]=\"FN\"\n",
    "        if newdata_test.iloc[i,-2]==\"N\":\n",
    "            if newdata_test.iloc[i,-3]==\"T\":\n",
    "                newdata_test.iloc[i,-1]=\"TN\"\n",
    "            else:\n",
    "                newdata_test.iloc[i,-1]=\"FP\"\n",
    "    prediction= newdata_test[\"prediction\"].values.tolist()\n",
    "    T_F=dict(zip(*np.unique(prediction, return_counts=True)))\n",
    "    count=T_F[\"T\"]/len(prediction)\n",
    "    ACC_MCC_list= newdata_test[\"ACC_MCC\"].values.tolist()\n",
    "    ACC_MCC=dict(zip(*np.unique(ACC_MCC_list, return_counts=True)))\n",
    "    TP=ACC_MCC[\"TP\"]\n",
    "    TN=ACC_MCC[\"TN\"]\n",
    "    FP=ACC_MCC[\"FP\"]\n",
    "    FN=ACC_MCC[\"FN\"]\n",
    "    ACC=(TP+TN)/(TP+TN+FN+FP)\n",
    "    MCC=(TP*TN-FP*FN)/math.sqrt((TP+FN)*(TP+FP)*(TN+FP)*(TN+FN))\n",
    "    SN=TP/(TP+FN)\n",
    "    SP=TN/(TN+FP)\n",
    "    return ACC,MCC,SN,SP\n",
    "test_file=\"./data/independent_test.csv\"\n",
    "ACC,MCC,SN,SP=SVM_prediction(test_file)"
   ]
  },
  {
   "cell_type": "code",
   "execution_count": 8,
   "metadata": {},
   "outputs": [
    {
     "data": {
      "text/plain": [
       "(0.8240409207161126, 0.556994921190893, 0.8154981549815498, 0.8662613981762918)"
      ]
     },
     "execution_count": 8,
     "metadata": {},
     "output_type": "execute_result"
    }
   ],
   "source": [
    "ACC,MCC,SN,SP"
   ]
  },
  {
   "cell_type": "code",
   "execution_count": 9,
   "metadata": {},
   "outputs": [],
   "source": [
    "data_test=pd.read_csv(\"./data/independent_test.csv\",index_col=0)\n",
    "test_indepent_x=data_test.drop([\"label\"],axis=\"columns\")\n",
    "test_indepent_y=data_test[\"label\"]\n",
    "test_indepent_y=test_indepent_y.astype(int)"
   ]
  },
  {
   "cell_type": "code",
   "execution_count": 10,
   "metadata": {},
   "outputs": [],
   "source": [
    "def acu_curve(y,prob):\n",
    "    fpr,tpr,threshold = roc_curve(y,prob) ###计算真正率和假正率\n",
    "    roc_auc = auc(fpr,tpr) ###计算auc的值\n",
    " \n",
    "    plt.figure()\n",
    "\n",
    "    config = {\n",
    "        \"font.family\":'serif',\n",
    "        \"font.size\": 20,\n",
    "        \"mathtext.fontset\":'stix',\n",
    "        \"font.serif\": ['Times New Roman'],\n",
    "    }\n",
    "    rcParams.update(config)\n",
    "\n",
    "    lw = 2\n",
    "    plt.figure(figsize=(10,10))\n",
    "    plt.plot(fpr, tpr, color='darkorange',\n",
    "                lw=lw, label='ROC curve (area = %0.3f)' % roc_auc) ###假正率为横坐标，真正率为纵坐标做曲线\n",
    "    plt.plot([0, 1], [0, 1], color='navy', lw=lw, linestyle='--')\n",
    "    plt.xlim([0.0, 1.0])\n",
    "    plt.ylim([0.0, 1.05])\n",
    "    plt.xlabel('False Positive Rate',font=Path('TNR.ttf'),fontsize=25)\n",
    "    plt.ylabel('True Positive Rate',font=Path('TNR.ttf'),fontsize=25)\n",
    "    plt.title('Receiver operating characteristic example',font=Path('TNR.ttf'),fontsize=25)\n",
    "    plt.legend(loc=\"lower right\",fontsize=25)\n",
    "\n",
    "    \n",
    "    plt.show()"
   ]
  },
  {
   "cell_type": "code",
   "execution_count": 11,
   "metadata": {},
   "outputs": [],
   "source": [
    "predictor = svm.SVC(kernel='linear', probability=True,random_state=0)\n",
    "# predictor = svm.SVC(gamma='scale', C=1.0, decision_function_shape='ovr', kernel='rbf')\n",
    "predictor.fit(train_x, train_y)\n",
    "result = predictor.decision_function(test_indepent_x)\n"
   ]
  },
  {
   "cell_type": "code",
   "execution_count": 13,
   "metadata": {},
   "outputs": [
    {
     "data": {
      "text/plain": [
       "<Figure size 432x288 with 0 Axes>"
      ]
     },
     "metadata": {},
     "output_type": "display_data"
    },
    {
     "data": {
      "image/png": "[encoded data removed]",
      "text/plain": [
       "<Figure size 720x720 with 1 Axes>"
      ]
     },
     "metadata": {
      "needs_background": "light"
     },
     "output_type": "display_data"
    }
   ],
   "source": [
    "acu_curve(test_indepent_y,result)"
   ]
  },
  {
   "cell_type": "code",
   "execution_count": null,
   "metadata": {},
   "outputs": [],
   "source": []
  }
 ],
 "metadata": {
  "kernelspec": {
   "display_name": "py3.8.5",
   "language": "python",
   "name": "python3"
  },
  "language_info": {
   "codemirror_mode": {
    "name": "ipython",
    "version": 3
   },
   "file_extension": ".py",
   "mimetype": "text/x-python",
   "name": "python",
   "nbconvert_exporter": "python",
   "pygments_lexer": "ipython3",
   "version": "3.8.5"
  },
  "orig_nbformat": 4,
  "vscode": {
   "interpreter": {
    "hash": "49325abef9b3daa326e85974c24633a8dce069ac5b1211d0ea8a0f81713958d6"
   }
  }
 },
 "nbformat": 4,
 "nbformat_minor": 2
}
